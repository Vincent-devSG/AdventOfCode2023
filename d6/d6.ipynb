{
 "cells": [
  {
   "cell_type": "code",
   "execution_count": 1,
   "metadata": {},
   "outputs": [],
   "source": [
    "import re\n",
    "import numpy as np\n",
    "with(open('input.txt', 'r')) as f:\n",
    "   lines = f.readlines()"
   ]
  },
  {
   "cell_type": "code",
   "execution_count": 2,
   "metadata": {},
   "outputs": [],
   "source": [
    "lines = [line.strip() for line in lines]\n",
    "time = re.findall(r'(\\d+)', lines[0])\n",
    "distance = re.findall(r'(\\d+)', lines[1])\n"
   ]
  },
  {
   "cell_type": "code",
   "execution_count": 3,
   "metadata": {},
   "outputs": [
    {
     "name": "stdout",
     "output_type": "stream",
     "text": [
      "['56', '71', '79', '99'] ['334', '1135', '1350', '2430']\n"
     ]
    }
   ],
   "source": [
    "print(time, distance)   \n"
   ]
  },
  {
   "cell_type": "code",
   "execution_count": 4,
   "metadata": {},
   "outputs": [],
   "source": [
    "accel = 1"
   ]
  },
  {
   "cell_type": "code",
   "execution_count": 5,
   "metadata": {},
   "outputs": [
    {
     "name": "stdout",
     "output_type": "stream",
     "text": [
      "211904\n"
     ]
    }
   ],
   "source": [
    "distance_covered_array = np.zeros(len(time))\n",
    "\n",
    "for index, n_time in enumerate(time):\n",
    "    n_time = int(n_time)\n",
    "    for i in range(n_time):\n",
    "        time_left = n_time - i\n",
    "        speed = accel * i\n",
    "        distance_covered = speed * (time_left)\n",
    "        if distance_covered > int(distance[index]):\n",
    "            distance_covered_array[index] += 1\n",
    "\n",
    "print(int(np.prod(distance_covered_array)))          \n"
   ]
  },
  {
   "cell_type": "code",
   "execution_count": 6,
   "metadata": {},
   "outputs": [
    {
     "name": "stdout",
     "output_type": "stream",
     "text": [
      "56717999 334113513502430\n"
     ]
    }
   ],
   "source": [
    "# part 2\n",
    "tot_time = ''\n",
    "for _ in time:\n",
    "    tot_time += _\n",
    "\n",
    "tot_distance = ''\n",
    "for _ in distance:\n",
    "    tot_distance += _\n",
    "\n",
    "print(tot_time, tot_distance)"
   ]
  },
  {
   "cell_type": "code",
   "execution_count": 8,
   "metadata": {},
   "outputs": [
    {
     "name": "stdout",
     "output_type": "stream",
     "text": [
      "43364472\n"
     ]
    }
   ],
   "source": [
    "tot_time = int(tot_time)\n",
    "distance_covered_sum = 0\n",
    "for i in range (tot_time):\n",
    "    time_left = tot_time - i\n",
    "    speed = accel * i\n",
    "    distance_covered = speed * time_left\n",
    "\n",
    "    if distance_covered >= int(tot_distance):\n",
    "        distance_covered_sum +=1\n",
    "\n",
    "print(int(distance_covered_sum))"
   ]
  }
 ],
 "metadata": {
  "kernelspec": {
   "display_name": "base",
   "language": "python",
   "name": "python3"
  },
  "language_info": {
   "codemirror_mode": {
    "name": "ipython",
    "version": 3
   },
   "file_extension": ".py",
   "mimetype": "text/x-python",
   "name": "python",
   "nbconvert_exporter": "python",
   "pygments_lexer": "ipython3",
   "version": "3.11.7"
  }
 },
 "nbformat": 4,
 "nbformat_minor": 2
}
